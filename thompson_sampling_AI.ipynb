{
 "cells": [
  {
   "cell_type": "markdown",
   "metadata": {},
   "source": [
    "#IA MAXIMIZING REVENUES\n",
    "# THOMPSON SAMPLING\n",
    "\"\"\"\n",
    "Created on Wed Mar 13 12:29:25 2019\n",
    "\n",
    "@author: Sebastian Vallejo\n",
    "\"\"\""
   ]
  },
  {
   "cell_type": "code",
   "execution_count": 1,
   "metadata": {},
   "outputs": [],
   "source": [
    "# IMPORT THE LUBRARIES\n",
    "import numpy as np\n",
    "import matplotlib.pyplot as plt\n",
    "import random"
   ]
  },
  {
   "cell_type": "code",
   "execution_count": 2,
   "metadata": {},
   "outputs": [],
   "source": [
    "# SETTING THE PARAMETERS\n",
    "N = 10000\n",
    "d = 9\n",
    "revenue = 100"
   ]
  },
  {
   "cell_type": "code",
   "execution_count": 3,
   "metadata": {},
   "outputs": [],
   "source": [
    "# CREATE THE SIMULATION\n",
    "conversion_rates = [0.05, 0.13, 0.09, 0.16, 0.11, 0.04, 0.20, 0.08, 0.01]\n",
    "X = np.array(np.zeros([N,d]))\n",
    "for i in range(N):\n",
    "    for j in range(d):\n",
    "        if np.random.rand() <= conversion_rates[j]:\n",
    "            X[i,j] = 1"
   ]
  },
  {
   "cell_type": "code",
   "execution_count": 4,
   "metadata": {},
   "outputs": [
    {
     "data": {
      "text/plain": [
       "<function matplotlib.pyplot.show(*args, **kw)>"
      ]
     },
     "execution_count": 4,
     "metadata": {},
     "output_type": "execute_result"
    },
    {
     "data": {
      "image/png": "[encoded data removed]",
      "text/plain": [
       "<Figure size 432x288 with 1 Axes>"
      ]
     },
     "metadata": {
      "needs_background": "light"
     },
     "output_type": "display_data"
    }
   ],
   "source": [
    "#visualizing the results\n",
    "plt.hist(X)\n",
    "plt.xlim([0.9,1])\n",
    "plt.ylim([0,4000])\n",
    "plt.show"
   ]
  },
  {
   "cell_type": "code",
   "execution_count": 5,
   "metadata": {},
   "outputs": [],
   "source": [
    "#Implementing a Random Strategy and Thompson Sampling\n",
    "strategies_selected_rs = [] \n",
    "strategies_selected_ts = []\n",
    "total_reward_rs = 0\n",
    "total_reward_ts = 0\n",
    "numbers_of_rewards_1 = list(np.zeros(d))\n",
    "numbers_of_rewards_0 = [0] * 9\n",
    "\n",
    "for n in range(0, N):\n",
    "    # Random strategy\n",
    "    strategy_rs = random.randrange(d)\n",
    "    strategies_selected_rs.append(strategy_rs)\n",
    "    total_reward_rs += X[n,strategy_rs]\n",
    "    \n",
    "    # Thompson Sampling\n",
    "    max_random = 0\n",
    "    strategies_ts = 0\n",
    "    for i in range(d):\n",
    "        random_beta = random.betavariate(numbers_of_rewards_1[i] + 1, numbers_of_rewards_0[i] + 1)\n",
    "        if random_beta > max_random:\n",
    "            max_random = random_beta\n",
    "            strategies_ts = i\n",
    "    reward_ts = X[n, strategies_ts]\n",
    "    if reward_ts == 1:\n",
    "        numbers_of_rewards_1[strategies_ts] +=1\n",
    "    else:\n",
    "        numbers_of_rewards_0[strategies_ts] +=1\n",
    "    strategies_selected_ts.append(strategies_ts)\n",
    "    total_reward_ts += reward_ts"
   ]
  },
  {
   "cell_type": "code",
   "execution_count": 6,
   "metadata": {},
   "outputs": [
    {
     "name": "stdout",
     "output_type": "stream",
     "text": [
      "Revenue obtain: $93700\n",
      "Relative return: 100%\n"
     ]
    }
   ],
   "source": [
    "#Computing the absolute and relative returns\n",
    "absolute_return = (total_reward_ts - total_reward_rs) * revenue\n",
    "relative_return = (total_reward_ts - total_reward_rs) / total_reward_rs * 100\n",
    "\n",
    "print(\"Revenue obtain: ${:.0f}\".format(absolute_return))\n",
    "print(\"Relative return: {:.0f}%\".format(relative_return))"
   ]
  },
  {
   "cell_type": "code",
   "execution_count": 7,
   "metadata": {},
   "outputs": [
    {
     "data": {
      "image/png": "[encoded data removed]",
      "text/plain": [
       "<Figure size 432x288 with 1 Axes>"
      ]
     },
     "metadata": {
      "needs_background": "light"
     },
     "output_type": "display_data"
    }
   ],
   "source": [
    "#Plotting the histogram\n",
    "plt.hist(strategies_selected_ts)\n",
    "plt.title('Histogram of selections')\n",
    "plt.xlabel('Strategy')\n",
    "plt.ylabel('Number of Times Strategy was selected')\n",
    "plt.show()"
   ]
  }
 ],
 "metadata": {
  "kernelspec": {
   "display_name": "Python 3",
   "language": "python",
   "name": "python3"
  },
  "language_info": {
   "codemirror_mode": {
    "name": "ipython",
    "version": 3
   },
   "file_extension": ".py",
   "mimetype": "text/x-python",
   "name": "python",
   "nbconvert_exporter": "python",
   "pygments_lexer": "ipython3",
   "version": "3.7.1"
  }
 },
 "nbformat": 4,
 "nbformat_minor": 2
}
